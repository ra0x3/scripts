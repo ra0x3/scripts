{
 "cells": [
  {
   "cell_type": "code",
   "execution_count": 1,
   "id": "67d18635",
   "metadata": {},
   "outputs": [],
   "source": [
    "import pandas as pd\n",
    "import numpy as np\n",
    "import os\n",
    "import sys\n",
    "import matplotlib.pyplot as plt\n",
    "import seaborn as sns\n",
    "%matplotlib inline"
   ]
  },
  {
   "cell_type": "raw",
   "id": "23122a0b",
   "metadata": {},
   "source": [
    "plt.style.use('fivethirtyeight')"
   ]
  },
  {
   "cell_type": "code",
   "execution_count": 2,
   "id": "b5ebf07c",
   "metadata": {},
   "outputs": [],
   "source": [
    "sns.set_context(rc = {\"patch.linewidth\": 0.0})"
   ]
  },
  {
   "cell_type": "code",
   "execution_count": 3,
   "id": "9c258504",
   "metadata": {},
   "outputs": [
    {
     "data": {
      "text/html": [
       "<div>\n",
       "<style scoped>\n",
       "    .dataframe tbody tr th:only-of-type {\n",
       "        vertical-align: middle;\n",
       "    }\n",
       "\n",
       "    .dataframe tbody tr th {\n",
       "        vertical-align: top;\n",
       "    }\n",
       "\n",
       "    .dataframe thead th {\n",
       "        text-align: right;\n",
       "    }\n",
       "</style>\n",
       "<table border=\"1\" class=\"dataframe\">\n",
       "  <thead>\n",
       "    <tr style=\"text-align: right;\">\n",
       "      <th></th>\n",
       "      <th>Unnamed: 0.2</th>\n",
       "      <th>Unnamed: 0</th>\n",
       "      <th>player</th>\n",
       "      <th>dnp</th>\n",
       "      <th>dnpr</th>\n",
       "      <th>vs</th>\n",
       "      <th>game_id</th>\n",
       "      <th>min</th>\n",
       "      <th>fg</th>\n",
       "      <th>threept</th>\n",
       "      <th>...</th>\n",
       "      <th>fg_att</th>\n",
       "      <th>ft_made</th>\n",
       "      <th>ft_att</th>\n",
       "      <th>t_threept_made</th>\n",
       "      <th>t_threept_att</th>\n",
       "      <th>t_fg_made</th>\n",
       "      <th>t_fg_att</th>\n",
       "      <th>t_ft_made</th>\n",
       "      <th>t_ft_att</th>\n",
       "      <th>date</th>\n",
       "    </tr>\n",
       "  </thead>\n",
       "  <tbody>\n",
       "    <tr>\n",
       "      <th>0</th>\n",
       "      <td>0</td>\n",
       "      <td>0</td>\n",
       "      <td>T. Prince</td>\n",
       "      <td>0</td>\n",
       "      <td>NaN</td>\n",
       "      <td>Orlando Magic</td>\n",
       "      <td>401161182</td>\n",
       "      <td>29.0</td>\n",
       "      <td>2-11</td>\n",
       "      <td>2-9</td>\n",
       "      <td>...</td>\n",
       "      <td>11.0</td>\n",
       "      <td>0.0</td>\n",
       "      <td>0.0</td>\n",
       "      <td>10.0</td>\n",
       "      <td>47.0</td>\n",
       "      <td>32.0</td>\n",
       "      <td>96.0</td>\n",
       "      <td>15.0</td>\n",
       "      <td>96.0</td>\n",
       "      <td>2020-01-06</td>\n",
       "    </tr>\n",
       "    <tr>\n",
       "      <th>1</th>\n",
       "      <td>1</td>\n",
       "      <td>1</td>\n",
       "      <td>G. Temple</td>\n",
       "      <td>0</td>\n",
       "      <td>NaN</td>\n",
       "      <td>Orlando Magic</td>\n",
       "      <td>401161182</td>\n",
       "      <td>29.0</td>\n",
       "      <td>2-13</td>\n",
       "      <td>1-8</td>\n",
       "      <td>...</td>\n",
       "      <td>13.0</td>\n",
       "      <td>4.0</td>\n",
       "      <td>5.0</td>\n",
       "      <td>10.0</td>\n",
       "      <td>47.0</td>\n",
       "      <td>32.0</td>\n",
       "      <td>96.0</td>\n",
       "      <td>15.0</td>\n",
       "      <td>96.0</td>\n",
       "      <td>2020-01-06</td>\n",
       "    </tr>\n",
       "    <tr>\n",
       "      <th>2</th>\n",
       "      <td>2</td>\n",
       "      <td>2</td>\n",
       "      <td>J. Harris</td>\n",
       "      <td>0</td>\n",
       "      <td>NaN</td>\n",
       "      <td>Orlando Magic</td>\n",
       "      <td>401161182</td>\n",
       "      <td>31.0</td>\n",
       "      <td>6-11</td>\n",
       "      <td>3-7</td>\n",
       "      <td>...</td>\n",
       "      <td>11.0</td>\n",
       "      <td>1.0</td>\n",
       "      <td>1.0</td>\n",
       "      <td>10.0</td>\n",
       "      <td>47.0</td>\n",
       "      <td>32.0</td>\n",
       "      <td>96.0</td>\n",
       "      <td>15.0</td>\n",
       "      <td>96.0</td>\n",
       "      <td>2020-01-06</td>\n",
       "    </tr>\n",
       "    <tr>\n",
       "      <th>3</th>\n",
       "      <td>3</td>\n",
       "      <td>3</td>\n",
       "      <td>J. Allen</td>\n",
       "      <td>0</td>\n",
       "      <td>NaN</td>\n",
       "      <td>Orlando Magic</td>\n",
       "      <td>401161182</td>\n",
       "      <td>25.0</td>\n",
       "      <td>2-6</td>\n",
       "      <td>0-0</td>\n",
       "      <td>...</td>\n",
       "      <td>6.0</td>\n",
       "      <td>1.0</td>\n",
       "      <td>1.0</td>\n",
       "      <td>10.0</td>\n",
       "      <td>47.0</td>\n",
       "      <td>32.0</td>\n",
       "      <td>96.0</td>\n",
       "      <td>15.0</td>\n",
       "      <td>96.0</td>\n",
       "      <td>2020-01-06</td>\n",
       "    </tr>\n",
       "    <tr>\n",
       "      <th>4</th>\n",
       "      <td>4</td>\n",
       "      <td>4</td>\n",
       "      <td>S. Dinwiddie</td>\n",
       "      <td>0</td>\n",
       "      <td>NaN</td>\n",
       "      <td>Orlando Magic</td>\n",
       "      <td>401161182</td>\n",
       "      <td>29.0</td>\n",
       "      <td>6-19</td>\n",
       "      <td>2-10</td>\n",
       "      <td>...</td>\n",
       "      <td>19.0</td>\n",
       "      <td>2.0</td>\n",
       "      <td>4.0</td>\n",
       "      <td>10.0</td>\n",
       "      <td>47.0</td>\n",
       "      <td>32.0</td>\n",
       "      <td>96.0</td>\n",
       "      <td>15.0</td>\n",
       "      <td>96.0</td>\n",
       "      <td>2020-01-06</td>\n",
       "    </tr>\n",
       "  </tbody>\n",
       "</table>\n",
       "<p>5 rows × 60 columns</p>\n",
       "</div>"
      ],
      "text/plain": [
       "   Unnamed: 0.2  Unnamed: 0        player  dnp dnpr             vs    game_id  \\\n",
       "0             0           0     T. Prince    0  NaN  Orlando Magic  401161182   \n",
       "1             1           1     G. Temple    0  NaN  Orlando Magic  401161182   \n",
       "2             2           2     J. Harris    0  NaN  Orlando Magic  401161182   \n",
       "3             3           3      J. Allen    0  NaN  Orlando Magic  401161182   \n",
       "4             4           4  S. Dinwiddie    0  NaN  Orlando Magic  401161182   \n",
       "\n",
       "    min    fg threept  ... fg_att  ft_made  ft_att  t_threept_made  \\\n",
       "0  29.0  2-11     2-9  ...   11.0      0.0     0.0            10.0   \n",
       "1  29.0  2-13     1-8  ...   13.0      4.0     5.0            10.0   \n",
       "2  31.0  6-11     3-7  ...   11.0      1.0     1.0            10.0   \n",
       "3  25.0   2-6     0-0  ...    6.0      1.0     1.0            10.0   \n",
       "4  29.0  6-19    2-10  ...   19.0      2.0     4.0            10.0   \n",
       "\n",
       "   t_threept_att  t_fg_made  t_fg_att  t_ft_made  t_ft_att        date  \n",
       "0           47.0       32.0      96.0       15.0      96.0  2020-01-06  \n",
       "1           47.0       32.0      96.0       15.0      96.0  2020-01-06  \n",
       "2           47.0       32.0      96.0       15.0      96.0  2020-01-06  \n",
       "3           47.0       32.0      96.0       15.0      96.0  2020-01-06  \n",
       "4           47.0       32.0      96.0       15.0      96.0  2020-01-06  \n",
       "\n",
       "[5 rows x 60 columns]"
      ]
     },
     "execution_count": 3,
     "metadata": {},
     "output_type": "execute_result"
    }
   ],
   "source": [
    "df = pd.read_csv(\"../data/stacked.csv\", low_memory=False)\n",
    "df.head()"
   ]
  },
  {
   "cell_type": "code",
   "execution_count": 11,
   "id": "c17bfc1f",
   "metadata": {},
   "outputs": [
    {
     "name": "stdout",
     "output_type": "stream",
     "text": [
      "60 features derived from 385,034 data points using 899 games\n"
     ]
    }
   ],
   "source": [
    "n_games = {x for x in zip(df[\"team\"].values + df[\"vs\"].values)}\n",
    "print(\"{} features derived from {:,} data points using {:,} games\".format(df.shape[1], df.shape[0], len(n_games)))"
   ]
  },
  {
   "cell_type": "code",
   "execution_count": 12,
   "id": "9e82c48b",
   "metadata": {},
   "outputs": [],
   "source": [
    "def player_stat_hist(player, team, stat):\n",
    "    sdf = df.loc[(df[\"player\"] == player) & (df[\"team_ref\"] == team)][[\"player\", stat]]\n",
    "    sns.histplot(sdf[stat], stat=\"percent\", kde=True)"
   ]
  },
  {
   "cell_type": "code",
   "execution_count": 13,
   "id": "44ca75b1",
   "metadata": {},
   "outputs": [
    {
     "data": {
      "image/png": "[encoded data removed]",
      "text/plain": [
       "<Figure size 640x480 with 1 Axes>"
      ]
     },
     "metadata": {},
     "output_type": "display_data"
    }
   ],
   "source": [
    "player_stat_hist(\"J. Tatum\", \"celtics\", \"pts\")"
   ]
  },
  {
   "cell_type": "code",
   "execution_count": 14,
   "id": "6ddab72f",
   "metadata": {},
   "outputs": [
    {
     "data": {
      "image/png": "[encoded data removed]",
      "text/plain": [
       "<Figure size 640x480 with 1 Axes>"
      ]
     },
     "metadata": {},
     "output_type": "display_data"
    }
   ],
   "source": [
    "player_stat_hist(\"N. Jokic\", \"nuggets\", \"pm\")"
   ]
  },
  {
   "cell_type": "code",
   "execution_count": null,
   "id": "f4db9a96",
   "metadata": {},
   "outputs": [],
   "source": []
  }
 ],
 "metadata": {
  "kernelspec": {
   "display_name": "Python 3 (ipykernel)",
   "language": "python",
   "name": "python3"
  },
  "language_info": {
   "codemirror_mode": {
    "name": "ipython",
    "version": 3
   },
   "file_extension": ".py",
   "mimetype": "text/x-python",
   "name": "python",
   "nbconvert_exporter": "python",
   "pygments_lexer": "ipython3",
   "version": "3.10.0"
  }
 },
 "nbformat": 4,
 "nbformat_minor": 5
}
